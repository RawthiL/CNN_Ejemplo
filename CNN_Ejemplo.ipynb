{
 "cells": [
  {
   "cell_type": "markdown",
   "metadata": {},
   "source": [
    "# Ejemplo de Red Convolucional con TensorFlow"
   ]
  },
  {
   "cell_type": "code",
   "execution_count": 1,
   "metadata": {},
   "outputs": [
    {
     "name": "stdout",
     "output_type": "stream",
     "text": [
      "Once deleted, variables cannot be recovered. Proceed (y/[n])? y\n"
     ]
    }
   ],
   "source": [
    "%reset\n",
    "%matplotlib inline\n",
    "\n",
    "# importo tensorflow\n",
    "import tensorflow as tf\n",
    "# Siempre util para testear... no se si lo uso acá\n",
    "import numpy as np\n",
    "# Herramientas para interactuar con el sistema operativo (opcionales para acomodar cosas)\n",
    "import os\n",
    "import shutil\n",
    "\n"
   ]
  },
  {
   "cell_type": "markdown",
   "metadata": {},
   "source": [
    "## Importamos el dataset MINST"
   ]
  },
  {
   "cell_type": "code",
   "execution_count": 2,
   "metadata": {},
   "outputs": [
    {
     "name": "stdout",
     "output_type": "stream",
     "text": [
      "WARNING:tensorflow:From <ipython-input-2-17cb2e3eb9fc>:10: read_data_sets (from tensorflow.contrib.learn.python.learn.datasets.mnist) is deprecated and will be removed in a future version.\n",
      "Instructions for updating:\n",
      "Please use alternatives such as official/mnist/dataset.py from tensorflow/models.\n",
      "WARNING:tensorflow:From /home/rawthil/Documents/VE-TensoFlow/lib/python3.6/site-packages/tensorflow/contrib/learn/python/learn/datasets/mnist.py:260: maybe_download (from tensorflow.contrib.learn.python.learn.datasets.base) is deprecated and will be removed in a future version.\n",
      "Instructions for updating:\n",
      "Please write your own downloading logic.\n",
      "WARNING:tensorflow:From /home/rawthil/Documents/VE-TensoFlow/lib/python3.6/site-packages/tensorflow/contrib/learn/python/learn/datasets/mnist.py:262: extract_images (from tensorflow.contrib.learn.python.learn.datasets.mnist) is deprecated and will be removed in a future version.\n",
      "Instructions for updating:\n",
      "Please use tf.data to implement this functionality.\n",
      "Extracting MNIST_data/train-images-idx3-ubyte.gz\n",
      "WARNING:tensorflow:From /home/rawthil/Documents/VE-TensoFlow/lib/python3.6/site-packages/tensorflow/contrib/learn/python/learn/datasets/mnist.py:267: extract_labels (from tensorflow.contrib.learn.python.learn.datasets.mnist) is deprecated and will be removed in a future version.\n",
      "Instructions for updating:\n",
      "Please use tf.data to implement this functionality.\n",
      "Extracting MNIST_data/train-labels-idx1-ubyte.gz\n",
      "WARNING:tensorflow:From /home/rawthil/Documents/VE-TensoFlow/lib/python3.6/site-packages/tensorflow/contrib/learn/python/learn/datasets/mnist.py:110: dense_to_one_hot (from tensorflow.contrib.learn.python.learn.datasets.mnist) is deprecated and will be removed in a future version.\n",
      "Instructions for updating:\n",
      "Please use tf.one_hot on tensors.\n",
      "Extracting MNIST_data/t10k-images-idx3-ubyte.gz\n",
      "Extracting MNIST_data/t10k-labels-idx1-ubyte.gz\n",
      "WARNING:tensorflow:From /home/rawthil/Documents/VE-TensoFlow/lib/python3.6/site-packages/tensorflow/contrib/learn/python/learn/datasets/mnist.py:290: DataSet.__init__ (from tensorflow.contrib.learn.python.learn.datasets.mnist) is deprecated and will be removed in a future version.\n",
      "Instructions for updating:\n",
      "Please use alternatives such as official/mnist/dataset.py from tensorflow/models.\n"
     ]
    }
   ],
   "source": [
    "# De < http://yann.lecun.com/exdb/mnist/ > descargar los 4 archivos:\n",
    "#\n",
    "# train-images-idx3-ubyte.gz:  training set images (9912422 bytes)\n",
    "# train-labels-idx1-ubyte.gz:  training set labels (28881 bytes)\n",
    "# t10k-images-idx3-ubyte.gz:   test set images (1648877 bytes)\n",
    "# t10k-labels-idx1-ubyte.gz:   test set labels (4542 bytes) \n",
    "\n",
    "from tensorflow.examples.tutorials.mnist import input_data\n",
    "\n",
    "mnist = input_data.read_data_sets(\"MNIST_data/\", one_hot=True)"
   ]
  },
  {
   "cell_type": "markdown",
   "metadata": {},
   "source": [
    "## Definición de Parámetros"
   ]
  },
  {
   "cell_type": "code",
   "execution_count": 3,
   "metadata": {},
   "outputs": [],
   "source": [
    "# Cantidad de píxeles en cada imagen del set\n",
    "Tam_imagen = 784\n",
    "# Tamaño en ambas direcciones de la imagen\n",
    "Tam_imagen_2D = [28,28]\n",
    "# Cantidad de canales, es blanco y negros => uno solo\n",
    "canales_imagen = 1\n",
    "# Cantidad de clases objetivo, 10 (numeros del 0 al 9)\n",
    "Cant_salidas = 10\n",
    "\n",
    "# Tamaño del kernel que vamos a utilizar (uno solo para todos los layers)\n",
    "kernel_size = [5, 5]\n",
    "# Cantidad de canales por layer, es decir, filtros en paralelo\n",
    "Layer_sizes = [16, 32]\n",
    "\n",
    "# En la salida va a haber un layer totalemente conectado, definimos su numero de neuronas\n",
    "hidden_fc_neurons = 1024\n",
    "\n",
    "# Cantidad de pasos a entrenar\n",
    "pasos_entrenamiento = 20000\n",
    "# Tamaño del batch a utilizar\n",
    "batch_size = 50"
   ]
  },
  {
   "cell_type": "markdown",
   "metadata": {},
   "source": [
    "### Algunas funciones útiles"
   ]
  },
  {
   "cell_type": "code",
   "execution_count": 4,
   "metadata": {},
   "outputs": [],
   "source": [
    "# Crear variable de peso con pesos iniciales normales y desvio 0.1\n",
    "def weight_variable(shape):\n",
    "  initial = tf.truncated_normal(shape, stddev=0.1)\n",
    "  return tf.Variable(initial)\n",
    "# Crear variable de bias con peso inicial en 0.1\n",
    "def bias_variable(shape):\n",
    "  initial = tf.constant(0.1, shape=shape)\n",
    "  return tf.Variable(initial)\n",
    "\n",
    "\n",
    "# Función que calcula mucha info de las variables para TensoBoard\n",
    "def variable_summaries(var, nombre='summaries'):\n",
    "  #\"\"\"Attach a lot of summaries to a Tensor (for TensorBoard visualization).\"\"\"\n",
    "  with tf.name_scope(nombre):\n",
    "    mean = tf.reduce_mean(var)\n",
    "    tf.summary.scalar('mean', mean)\n",
    "    with tf.name_scope('stddev'):\n",
    "        stddev = tf.sqrt(tf.reduce_mean(tf.square(var - mean)))\n",
    "    tf.summary.scalar('stddev', stddev)\n",
    "    tf.summary.scalar('max', tf.reduce_max(var))\n",
    "    tf.summary.scalar('min', tf.reduce_min(var))\n",
    "    tf.summary.histogram('histogram', var)\n"
   ]
  },
  {
   "cell_type": "markdown",
   "metadata": {},
   "source": [
    "# Genero el modelo\n",
    "\n",
    "Primero declaramos los \"placeholders\". Estas variables actuan como los canales de entrada a nuestro grafo. Cuando su dimensión es \"None\" quiere decir que su tamaño se define al momento que cargamos un valor allí. Usaremos ese lugar para poner un batch size que puede ser variable."
   ]
  },
  {
   "cell_type": "code",
   "execution_count": 5,
   "metadata": {},
   "outputs": [],
   "source": [
    "# Entrada de imágenes\n",
    "x = tf.placeholder(tf.float32, shape=[None, Tam_imagen])\n",
    "# Clases objetivo\n",
    "y = tf.placeholder(tf.float32, shape=[None, Cant_salidas])\n",
    "#fase = tf.placeholder(tf.bool)"
   ]
  },
  {
   "cell_type": "markdown",
   "metadata": {},
   "source": [
    "Luego generamos todas las varibales a \"aprender\". Todas las variables son entrenables por defecto."
   ]
  },
  {
   "cell_type": "code",
   "execution_count": 6,
   "metadata": {},
   "outputs": [],
   "source": [
    "# Peso del primer layer convolucional, es del tamaño del kernel, por la cantidad \n",
    "# de canales por la cantidad de filtros en paralelo\n",
    "W_conv0 = weight_variable([kernel_size[0], kernel_size[1], canales_imagen, Layer_sizes[0]])\n",
    "variable_summaries(W_conv0, \"Pesos_conv_0\")\n",
    "# Bias, uno por tipo de filtro aplicado\n",
    "b_conv0 = bias_variable([Layer_sizes[0]])\n",
    "variable_summaries(b_conv0, \"Bias_conv_0\")\n",
    "\n",
    "# idem pero ahora tengo tantos canales de entrada como de salida en el último nivel\n",
    "W_conv1 = weight_variable([kernel_size[0], kernel_size[1], Layer_sizes[0], Layer_sizes[1]])\n",
    "variable_summaries(W_conv1, \"Pesos_conv_1\")\n",
    "b_conv1 = bias_variable([Layer_sizes[1]])\n",
    "variable_summaries(b_conv1, \"Bias_conv_1\")\n",
    "\n",
    "# Calculo la cantidad de caracteristicas que voy a tener al final.\n",
    "# Esta dado por lo que se redijo la imagen y la cantidad de canales finales\n",
    "tma_imag_fin = [Tam_imagen_2D[0]/(2**len(Layer_sizes)) , Tam_imagen_2D[1]/(2**len(Layer_sizes))]\n",
    "cant_caract_conv = int(tma_imag_fin[0] * tma_imag_fin[1] * Layer_sizes[-1])\n",
    "\n",
    "# Genero los pesos de la red totalmente conectada, como siempre\n",
    "W_fc = weight_variable([cant_caract_conv, hidden_fc_neurons])\n",
    "variable_summaries(W_fc, \"Pesos_Fully_con_oculto\")\n",
    "b_fc = bias_variable([hidden_fc_neurons])\n",
    "variable_summaries(b_fc, \"Bias_Fully_con_oculto\")\n",
    "\n",
    "# Pesos del layer de salida que tiene tantas neuronas como clases a calsificar\n",
    "W_out = weight_variable([hidden_fc_neurons, Cant_salidas])\n",
    "variable_summaries(W_out, \"Pesos_Fully_con_salida\")\n",
    "b_out = bias_variable([Cant_salidas])\n",
    "variable_summaries(b_out, \"Bias_Fully_con_salida\")"
   ]
  },
  {
   "cell_type": "markdown",
   "metadata": {},
   "source": [
    "Luego armamo la interacción de todo el grafo. Debemos definir como llegamos desde nuestro placeholder de entrada hasta la salida y como comparar esta con el placeholder de clases objetivo"
   ]
  },
  {
   "cell_type": "code",
   "execution_count": 7,
   "metadata": {},
   "outputs": [
    {
     "name": "stdout",
     "output_type": "stream",
     "text": [
      "WARNING:tensorflow:From <ipython-input-7-90217de47a58>:35: softmax_cross_entropy_with_logits (from tensorflow.python.ops.nn_ops) is deprecated and will be removed in a future version.\n",
      "Instructions for updating:\n",
      "\n",
      "Future major versions of TensorFlow will allow gradients to flow\n",
      "into the labels input on backprop by default.\n",
      "\n",
      "See @{tf.nn.softmax_cross_entropy_with_logits_v2}.\n",
      "\n"
     ]
    }
   ],
   "source": [
    "with tf.name_scope('Primer_Layer_Convolucional'):\n",
    "    # Paso la imagen de formato vector a imagen (de 1D a 2D)\n",
    "    x_image = tf.reshape(x, [-1, Tam_imagen_2D[0], Tam_imagen_2D[1], 1])\n",
    "\n",
    "    # Aplico convolución\n",
    "    s_conv0 = tf.nn.conv2d(x_image, W_conv0, strides=[1, 1, 1, 1], padding='SAME')\n",
    "    # Agrego la normalización por batch (para regularizar)\n",
    "    #s_conv0 = tf.contrib.layers.batch_norm(s_conv0,center=True,scale=True,is_training=fase)\n",
    "    # Agrego peso y alinealidad\n",
    "    h_conv0 = tf.nn.relu( s_conv0 + b_conv0)\n",
    "    # Aplico el pooling\n",
    "    h_pool0 = tf.nn.max_pool(h_conv0, ksize=[1, 2, 2, 1], strides=[1, 2, 2, 1], padding='SAME')\n",
    "\n",
    "with tf.name_scope('Segundo_Layer_Convolucional'):\n",
    "    # Idem al anterior\n",
    "    s_conv1 = tf.nn.conv2d(h_pool0, W_conv1, strides=[1, 1, 1, 1], padding='SAME')\n",
    "    #s_conv1 = tf.contrib.layers.batch_norm(s_conv1,center=True,scale=True,is_training=fase)\n",
    "    h_conv1 = tf.nn.relu( s_conv1 + b_conv1)\n",
    "    h_pool1 = tf.nn.max_pool(h_conv1, ksize=[1, 2, 2, 1], strides=[1, 2, 2, 1], padding='SAME')\n",
    "\n",
    "\n",
    "with tf.name_scope('Layer_Denso'):\n",
    "    # El layer totalmente conectado necesita ver nuevamente la imagen como vctor\n",
    "    h_pool1_flat = tf.reshape(h_pool1, [-1, cant_caract_conv])\n",
    "    # Aplico la multiplicación y alinealidad\n",
    "    h_0 = tf.nn.relu(tf.matmul(h_pool1_flat, W_fc) + b_fc)\n",
    "    \n",
    "with tf.name_scope('Layer_Salida'):\n",
    "    # Este pequeño layer funciona como traducción final del numero de features \n",
    "    # obtenidas en el último layer a una salida por clase objetivo.\n",
    "    y_conv = tf.matmul(h_0, W_out) + b_out\n",
    "\n",
    "with tf.name_scope('Metrica_Error'):\n",
    "    # Usamos la entropia cruzada para calcular nuestro error\n",
    "    cross_entropy = tf.reduce_mean( tf.nn.softmax_cross_entropy_with_logits(labels=y, logits=y_conv))\n",
    "    \n",
    "    # Sacamos una métrica más legible humanamente, el porcentaje de error\n",
    "    correct_prediction = tf.equal(tf.argmax(y_conv, 1), tf.argmax(y, 1))\n",
    "    accuracy = tf.reduce_mean(tf.cast(correct_prediction, tf.float32))\n",
    "    # Lo agregamos al sumario\n",
    "    tf.summary.scalar('accurracy', accuracy)\n",
    "\n",
    "\n",
    "with tf.name_scope('Entrenador'):\n",
    "    # Agregamos un entrenador tipo ADAM, que minimize la entropia cruzada.\n",
    "    # Solo se va a encargar de derivar la expresión \"cross_entropy\" en función\n",
    "    # de todas las variables que intervengan\n",
    "    train_step = tf.train.AdamOptimizer(1e-4).minimize(cross_entropy)\n",
    "    \n",
    "#extra_update_ops = tf.get_collection(tf.GraphKeys.UPDATE_OPS)"
   ]
  },
  {
   "cell_type": "markdown",
   "metadata": {},
   "source": [
    "## Inicializo la sesión de TensorFlow"
   ]
  },
  {
   "cell_type": "code",
   "execution_count": 8,
   "metadata": {},
   "outputs": [
    {
     "name": "stdout",
     "output_type": "stream",
     "text": [
      "Eliminado sumario de entrenamiento anterior.\n"
     ]
    }
   ],
   "source": [
    "# Declaramos la operación para guardar todo (en caso de querer conservar el modelo entrenado)\n",
    "saver = tf.train.Saver()\n",
    "# Operación de inicialización de variables (si o si va)\n",
    "init = tf.global_variables_initializer()\n",
    "# Activamos la sesión\n",
    "session = tf.InteractiveSession()\n",
    "# Inicializamos el grafo\n",
    "session.run(init)\n",
    "# Declaramos la salida del tensorboard y construimos la visualización\n",
    "merged = tf.summary.merge_all()\n",
    "train_writer_path = 'Tensorboard_out' + '/test'\n",
    "if os.path.exists(train_writer_path):\n",
    "    shutil.rmtree(train_writer_path)\n",
    "    print(\"Eliminado sumario de entrenamiento anterior.\")\n",
    "train_writer = tf.summary.FileWriter(train_writer_path,session.graph)"
   ]
  },
  {
   "cell_type": "markdown",
   "metadata": {},
   "source": [
    "# ¡ENTRENAMOS!"
   ]
  },
  {
   "cell_type": "code",
   "execution_count": 10,
   "metadata": {
    "scrolled": true
   },
   "outputs": [
    {
     "name": "stdout",
     "output_type": "stream",
     "text": [
      "step 0, training accuracy 0\n",
      "step 100, training accuracy 0.74\n",
      "step 200, training accuracy 0.76\n",
      "step 300, training accuracy 0.82\n",
      "step 400, training accuracy 0.76\n",
      "step 500, training accuracy 0.84\n",
      "step 600, training accuracy 0.86\n",
      "step 700, training accuracy 0.82\n",
      "step 800, training accuracy 0.84\n",
      "step 900, training accuracy 0.82\n",
      "step 1000, training accuracy 0.84\n",
      "step 1100, training accuracy 0.88\n",
      "step 1200, training accuracy 0.8\n",
      "step 1300, training accuracy 0.88\n",
      "step 1400, training accuracy 0.9\n",
      "step 1500, training accuracy 0.86\n",
      "step 1600, training accuracy 0.86\n",
      "step 1700, training accuracy 0.9\n",
      "step 1800, training accuracy 0.84\n",
      "step 1900, training accuracy 0.88\n",
      "step 2000, training accuracy 0.9\n",
      "step 2100, training accuracy 0.84\n",
      "step 2200, training accuracy 0.92\n",
      "step 2300, training accuracy 0.86\n",
      "step 2400, training accuracy 0.94\n",
      "step 2500, training accuracy 0.84\n",
      "step 2600, training accuracy 0.9\n",
      "step 2700, training accuracy 0.86\n",
      "step 2800, training accuracy 0.88\n",
      "step 2900, training accuracy 0.9\n",
      "step 3000, training accuracy 0.88\n",
      "step 3100, training accuracy 0.94\n",
      "step 3200, training accuracy 0.86\n",
      "step 3300, training accuracy 0.96\n",
      "step 3400, training accuracy 0.94\n",
      "step 3500, training accuracy 0.92\n",
      "step 3600, training accuracy 0.94\n",
      "step 3700, training accuracy 0.84\n",
      "step 3800, training accuracy 0.92\n",
      "step 3900, training accuracy 0.86\n",
      "step 4000, training accuracy 0.86\n",
      "step 4100, training accuracy 0.92\n",
      "step 4200, training accuracy 0.94\n",
      "step 4300, training accuracy 0.92\n",
      "step 4400, training accuracy 0.98\n",
      "step 4500, training accuracy 0.84\n",
      "step 4600, training accuracy 0.98\n",
      "step 4700, training accuracy 0.92\n",
      "step 4800, training accuracy 0.96\n",
      "step 4900, training accuracy 0.92\n",
      "step 5000, training accuracy 0.9\n",
      "step 5100, training accuracy 0.98\n",
      "step 5200, training accuracy 0.94\n",
      "step 5300, training accuracy 0.86\n",
      "step 5400, training accuracy 0.98\n",
      "step 5500, training accuracy 0.9\n",
      "step 5600, training accuracy 0.96\n",
      "step 5700, training accuracy 0.9\n",
      "step 5800, training accuracy 0.9\n",
      "step 5900, training accuracy 0.9\n",
      "step 6000, training accuracy 1\n",
      "step 6100, training accuracy 0.92\n",
      "step 6200, training accuracy 0.96\n",
      "step 6300, training accuracy 0.88\n",
      "step 6400, training accuracy 0.9\n",
      "step 6500, training accuracy 0.92\n",
      "step 6600, training accuracy 0.88\n",
      "step 6700, training accuracy 0.94\n",
      "step 6800, training accuracy 0.98\n",
      "step 6900, training accuracy 0.88\n",
      "step 7000, training accuracy 0.98\n",
      "step 7100, training accuracy 0.94\n",
      "step 7200, training accuracy 0.88\n",
      "step 7300, training accuracy 0.96\n",
      "step 7400, training accuracy 0.92\n",
      "step 7500, training accuracy 0.96\n",
      "step 7600, training accuracy 0.92\n",
      "step 7700, training accuracy 0.92\n",
      "step 7800, training accuracy 0.8\n",
      "step 7900, training accuracy 1\n",
      "step 8000, training accuracy 0.92\n",
      "step 8100, training accuracy 0.92\n",
      "step 8200, training accuracy 0.92\n",
      "step 8300, training accuracy 0.92\n",
      "step 8400, training accuracy 0.96\n",
      "step 8500, training accuracy 0.98\n",
      "step 8600, training accuracy 0.92\n",
      "step 8700, training accuracy 0.88\n",
      "step 8800, training accuracy 0.94\n",
      "step 8900, training accuracy 0.94\n",
      "step 9000, training accuracy 0.94\n",
      "step 9100, training accuracy 0.94\n",
      "step 9200, training accuracy 0.94\n",
      "step 9300, training accuracy 0.98\n",
      "step 9400, training accuracy 0.96\n",
      "step 9500, training accuracy 0.9\n",
      "step 9600, training accuracy 0.86\n",
      "step 9700, training accuracy 0.88\n",
      "step 9800, training accuracy 0.98\n",
      "step 9900, training accuracy 1\n",
      "step 10000, training accuracy 0.98\n",
      "step 10100, training accuracy 0.98\n",
      "step 10200, training accuracy 0.94\n",
      "step 10300, training accuracy 0.92\n",
      "step 10400, training accuracy 0.94\n",
      "step 10500, training accuracy 0.94\n",
      "step 10600, training accuracy 0.96\n",
      "step 10700, training accuracy 0.98\n",
      "step 10800, training accuracy 0.98\n",
      "step 10900, training accuracy 0.92\n",
      "step 11000, training accuracy 0.96\n",
      "step 11100, training accuracy 0.96\n",
      "step 11200, training accuracy 0.84\n",
      "step 11300, training accuracy 0.94\n",
      "step 11400, training accuracy 0.94\n",
      "step 11500, training accuracy 0.96\n",
      "step 11600, training accuracy 0.92\n",
      "step 11700, training accuracy 0.92\n",
      "step 11800, training accuracy 0.88\n",
      "step 11900, training accuracy 0.94\n",
      "step 12000, training accuracy 0.92\n",
      "step 12100, training accuracy 0.98\n",
      "step 12200, training accuracy 0.92\n",
      "step 12300, training accuracy 0.92\n",
      "step 12400, training accuracy 0.92\n",
      "step 12500, training accuracy 0.98\n",
      "step 12600, training accuracy 1\n",
      "step 12700, training accuracy 0.96\n",
      "step 12800, training accuracy 1\n",
      "step 12900, training accuracy 0.98\n",
      "step 13000, training accuracy 1\n",
      "step 13100, training accuracy 0.92\n",
      "step 13200, training accuracy 1\n",
      "step 13300, training accuracy 0.98\n",
      "step 13400, training accuracy 0.94\n",
      "step 13500, training accuracy 0.92\n",
      "step 13600, training accuracy 0.94\n",
      "step 13700, training accuracy 1\n",
      "step 13800, training accuracy 0.92\n",
      "step 13900, training accuracy 0.98\n",
      "step 14000, training accuracy 1\n",
      "step 14100, training accuracy 0.94\n",
      "step 14200, training accuracy 0.94\n",
      "step 14300, training accuracy 0.9\n",
      "step 14400, training accuracy 0.94\n",
      "step 14500, training accuracy 0.96\n",
      "step 14600, training accuracy 0.94\n",
      "step 14700, training accuracy 0.98\n",
      "step 14800, training accuracy 0.96\n",
      "step 14900, training accuracy 0.96\n",
      "step 15000, training accuracy 0.96\n",
      "step 15100, training accuracy 0.92\n",
      "step 15200, training accuracy 0.96\n",
      "step 15300, training accuracy 0.98\n",
      "step 15400, training accuracy 0.98\n",
      "step 15500, training accuracy 0.98\n",
      "step 15600, training accuracy 0.96\n",
      "step 15700, training accuracy 0.96\n",
      "step 15800, training accuracy 0.9\n",
      "step 15900, training accuracy 0.9\n",
      "step 16000, training accuracy 1\n",
      "step 16100, training accuracy 0.94\n",
      "step 16200, training accuracy 0.96\n",
      "step 16300, training accuracy 0.88\n",
      "step 16400, training accuracy 0.98\n",
      "step 16500, training accuracy 0.98\n",
      "step 16600, training accuracy 0.96\n",
      "step 16700, training accuracy 0.9\n",
      "step 16800, training accuracy 0.92\n",
      "step 16900, training accuracy 1\n",
      "step 17000, training accuracy 0.98\n",
      "step 17100, training accuracy 0.98\n",
      "step 17200, training accuracy 1\n",
      "step 17300, training accuracy 0.96\n",
      "step 17400, training accuracy 0.92\n",
      "step 17500, training accuracy 0.96\n",
      "step 17600, training accuracy 1\n",
      "step 17700, training accuracy 0.94\n",
      "step 17800, training accuracy 0.9\n",
      "step 17900, training accuracy 0.96\n",
      "step 18000, training accuracy 0.94\n",
      "step 18100, training accuracy 0.94\n",
      "step 18200, training accuracy 0.92\n",
      "step 18300, training accuracy 1\n",
      "step 18400, training accuracy 0.96\n",
      "step 18500, training accuracy 0.94\n",
      "step 18600, training accuracy 0.98\n",
      "step 18700, training accuracy 0.92\n",
      "step 18800, training accuracy 0.96\n",
      "step 18900, training accuracy 0.9\n",
      "step 19000, training accuracy 0.94\n",
      "step 19100, training accuracy 0.94\n",
      "step 19200, training accuracy 1\n",
      "step 19300, training accuracy 0.96\n",
      "step 19400, training accuracy 1\n",
      "step 19500, training accuracy 0.98\n",
      "step 19600, training accuracy 0.98\n",
      "step 19700, training accuracy 0.96\n",
      "step 19800, training accuracy 0.92\n",
      "step 19900, training accuracy 0.92\n"
     ]
    }
   ],
   "source": [
    "for i in range(pasos_entrenamiento):\n",
    "    # Saco un minibatch\n",
    "    batch = mnist.train.next_batch(batch_size)\n",
    "    \n",
    "    if i % 100 == 0:\n",
    "        \n",
    "        # Seteo las entradas del grafo\n",
    "        #feed_dict={x: batch[0], y: batch[1], fase : True}\n",
    "        feed_dict={x: batch[0], y: batch[1]}\n",
    "        \n",
    "        # Ejecuto los nodos \"accuracy\" y \"merged\" para calcular la presición actual y cargar los sumarios en tensorboard\n",
    "        #train_accuracy, _, sumario = session.run([accuracy, extra_update_ops, merged], feed_dict)\n",
    "        train_accuracy, sumario = session.run([accuracy, merged], feed_dict)\n",
    "        \n",
    "        # Agrego lo que obtuve al tensorboard\n",
    "        train_writer.add_summary(sumario, i)\n",
    "        \n",
    "        print('step %d, training accuracy %g' % (i, train_accuracy))\n",
    "        \n",
    "    # Entreno ejecutando el paso de entrenamiento, que va a calcular el gradiente, el paso y aplicarlo.\n",
    "    session.run([train_step], feed_dict)"
   ]
  },
  {
   "cell_type": "markdown",
   "metadata": {},
   "source": [
    "# Calculamos el error de validación"
   ]
  },
  {
   "cell_type": "code",
   "execution_count": 11,
   "metadata": {},
   "outputs": [
    {
     "name": "stdout",
     "output_type": "stream",
     "text": [
      "Validation accuracy [0.9371]\n"
     ]
    }
   ],
   "source": [
    "#feed_dict={ x: mnist.test.images, y: mnist.test.labels , fase : False}\n",
    "feed_dict={ x: mnist.test.images, y: mnist.test.labels}\n",
    "accuracy_Val = session.run([accuracy],feed_dict)\n",
    "print('Validation accuracy %s' % accuracy_Val)"
   ]
  }
 ],
 "metadata": {
  "kernelspec": {
   "display_name": "TensorFlow",
   "language": "python",
   "name": "tensorflow_py3"
  },
  "language_info": {
   "codemirror_mode": {
    "name": "ipython",
    "version": 3
   },
   "file_extension": ".py",
   "mimetype": "text/x-python",
   "name": "python",
   "nbconvert_exporter": "python",
   "pygments_lexer": "ipython3",
   "version": "3.6.5"
  }
 },
 "nbformat": 4,
 "nbformat_minor": 2
}
